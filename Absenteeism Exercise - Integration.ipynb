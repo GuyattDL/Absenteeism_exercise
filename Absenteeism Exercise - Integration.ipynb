{
 "cells": [
  {
   "cell_type": "code",
   "execution_count": 1,
   "metadata": {},
   "outputs": [],
   "source": [
    "from absenteeism_module import *\n",
    "\n",
    "model = absenteeism_model('absenteeism_model','custom_scaler')\n",
    "\n",
    "model.load_and_clean_data('Absenteeism_new_data.csv')"
   ]
  },
  {
   "cell_type": "code",
   "execution_count": 2,
   "metadata": {},
   "outputs": [],
   "source": [
    "import pymysql"
   ]
  },
  {
   "cell_type": "code",
   "execution_count": 3,
   "metadata": {},
   "outputs": [],
   "source": [
    "conn = pymysql.connect(host=\"localhost\", port=3306, database=\"predicted_outputs\", user=\"root\", password=\"\")"
   ]
  },
  {
   "cell_type": "code",
   "execution_count": 4,
   "metadata": {},
   "outputs": [],
   "source": [
    "cur = conn.cursor()"
   ]
  },
  {
   "cell_type": "code",
   "execution_count": 5,
   "metadata": {},
   "outputs": [],
   "source": [
    "df_new_obs = model.predicted_outputs()"
   ]
  },
  {
   "cell_type": "code",
   "execution_count": 6,
   "metadata": {},
   "outputs": [
    {
     "data": {
      "text/plain": [
       "Index(['Reason_1', 'Reason_2', 'Reason_3', 'Reason_4', 'Weekday',\n",
       "       'Transportation Expense', 'Age', 'Body Mass Index', 'Education',\n",
       "       'Children', 'Pets', 'Probability', 'Prediction'],\n",
       "      dtype='object')"
      ]
     },
     "execution_count": 6,
     "metadata": {},
     "output_type": "execute_result"
    }
   ],
   "source": [
    "df_new_obs.columns"
   ]
  },
  {
   "cell_type": "code",
   "execution_count": 7,
   "metadata": {},
   "outputs": [],
   "source": [
    "lower_cols = [x.lower() for x in df_new_obs.columns]"
   ]
  },
  {
   "cell_type": "code",
   "execution_count": 8,
   "metadata": {},
   "outputs": [
    {
     "name": "stdout",
     "output_type": "stream",
     "text": [
      "reason_1\n",
      "reason_2\n",
      "reason_3\n",
      "reason_4\n",
      "weekday\n",
      "transportation expense\n",
      "age\n",
      "body mass index\n",
      "education\n",
      "children\n",
      "pets\n",
      "probability\n",
      "prediction\n"
     ]
    }
   ],
   "source": [
    "# for copying in to MySQL Workbench\n",
    "for i in range(len(lower_cols)):\n",
    "    print(lower_cols[i])"
   ]
  },
  {
   "cell_type": "code",
   "execution_count": 9,
   "metadata": {},
   "outputs": [],
   "source": [
    "# df_new_obs.columns.values\n",
    "# types = ['bool','bool','bool','bool','int64','int64','int64','int64','bool','int64','int64','float64','bool']\n",
    "\n",
    "# dtype_dict = {df_new_obs.columns.values[i]:types[i] for i in range(len(types))}\n",
    "\n",
    "# dtype_dict\n",
    "\n",
    "# df_new_obs = df_new_obs.astype(dtype_dict)\n",
    "\n",
    "# df_new_obs.dtypes"
   ]
  },
  {
   "cell_type": "code",
   "execution_count": 10,
   "metadata": {},
   "outputs": [
    {
     "data": {
      "text/plain": [
       "0"
      ]
     },
     "execution_count": 10,
     "metadata": {},
     "output_type": "execute_result"
    }
   ],
   "source": [
    "cur.execute('select * from predicted_outputs;')"
   ]
  },
  {
   "cell_type": "code",
   "execution_count": 11,
   "metadata": {},
   "outputs": [
    {
     "data": {
      "text/plain": [
       "(40, 13)"
      ]
     },
     "execution_count": 11,
     "metadata": {},
     "output_type": "execute_result"
    }
   ],
   "source": [
    "df_new_obs.shape"
   ]
  },
  {
   "cell_type": "code",
   "execution_count": 12,
   "metadata": {},
   "outputs": [
    {
     "data": {
      "text/plain": [
       "30"
      ]
     },
     "execution_count": 12,
     "metadata": {},
     "output_type": "execute_result"
    }
   ],
   "source": [
    "df_new_obs[df_new_obs.columns.values[6]][0]"
   ]
  },
  {
   "cell_type": "code",
   "execution_count": 13,
   "metadata": {},
   "outputs": [
    {
     "data": {
      "text/plain": [
       "'INSERT INTO predicted_outputs VALUES (0, 0.0, 0, 1, 4, 179, 30, 19, 1, 0, 0, 0.11840271277972036, 0), (1, 0.0, 0, 0, 0, 361, 28, 27, 0, 1, 4, 0.9067090364572601, 1), (0, 0.0, 0, 1, 2, 155, 34, 25, 0, 2, 0, 0.2970863688588449, 0), (0, 0.0, 0, 1, 4, 179, 40, 22, 1, 2, 0, 0.18808274620614165, 0), (1, 0.0, 0, 0, 4, 155, 34, 25, 0, 2, 0, 0.7044602614096819, 1), (1, 0.0, 0, 0, 0, 225, 28, 24, 0, 1, 2, 0.7797105499958745, 1), (1, 0.0, 0, 0, 2, 118, 46, 25, 0, 2, 0, 0.5606586346119793, 1), (0, 0.0, 0, 1, 2, 179, 30, 19, 1, 0, 0, 0.14277590833339604, 0), (0, 0.0, 0, 1, 4, 118, 37, 28, 0, 0, 0, 0.10351696488315605, 0), (1, 0.0, 0, 0, 2, 118, 37, 28, 0, 0, 0, 0.50038431353038, 1), (0, 0.0, 0, 1, 3, 378, 36, 21, 0, 2, 4, 0.47699281624310935, 0), (0, 0.0, 1, 0, 3, 118, 50, 31, 0, 1, 0, 0.5213685283519442, 1), (0, 0.0, 1, 0, 4, 233, 31, 21, 1, 1, 8, 0.2548397825043956, 0), (0, 0.0, 0, 1, 4, 179, 30, 19, 1, 0, 0, 0.11840271277972036, 0), (0, 0.0, 0, 0, 0, 235, 48, 33, 0, 1, 5, 0.06829838564492764, 0), (0, 0.0, 0, 0, 3, 268, 33, 25, 1, 0, 0, 0.15003367499799197, 0), (0, 0.0, 1, 0, 3, 118, 50, 31, 0, 1, 0, 0.5213685283519442, 1), (1, 0.0, 0, 0, 3, 179, 30, 19, 1, 0, 0, 0.5112548592378909, 1), (0, 0.0, 0, 1, 3, 291, 40, 25, 0, 1, 1, 0.3838656223263845, 0), (1, 0.0, 0, 0, 0, 179, 30, 19, 1, 0, 0, 0.5909413116328577, 1), (0, 0.0, 0, 1, 0, 118, 37, 28, 0, 0, 0, 0.1508048390102958, 0), (0, 0.0, 0, 1, 3, 233, 31, 21, 1, 1, 8, 0.045044629329878114, 0), (1, 0.0, 0, 0, 4, 118, 37, 28, 0, 0, 0, 0.44678148747059904, 0), (1, 0.0, 0, 0, 2, 118, 37, 28, 0, 0, 0, 0.50038431353038, 1), (0, 0.0, 0, 1, 2, 233, 31, 21, 1, 1, 8, 0.04990690980552334, 0), (0, 0.0, 0, 1, 2, 235, 43, 38, 0, 1, 0, 0.4900671069055175, 0), (0, 0.0, 1, 0, 4, 233, 31, 21, 1, 1, 8, 0.2548397825043956, 0), (1, 0.0, 0, 0, 0, 228, 58, 22, 0, 2, 1, 0.661228377066439, 1), (0, 0.0, 0, 1, 0, 118, 37, 28, 0, 0, 0, 0.1508048390102958, 0), (1, 0.0, 0, 0, 1, 228, 58, 22, 0, 2, 1, 0.6367215327516819, 1), (0, 0.0, 0, 1, 1, 189, 33, 25, 0, 2, 2, 0.2870947480236855, 0), (0, 0.0, 0, 1, 2, 118, 37, 28, 0, 0, 0, 0.12526130929908472, 0), (0, 0.0, 0, 1, 2, 361, 28, 27, 0, 1, 4, 0.5284236321721916, 1), (0, 0.0, 0, 1, 2, 225, 28, 24, 0, 1, 2, 0.2898112944059867, 0), (1, 0.0, 0, 0, 0, 369, 31, 25, 0, 3, 0, 0.9813958316996557, 1), (1, 0.0, 0, 0, 1, 289, 33, 30, 0, 2, 1, 0.9310916246178844, 1), (1, 0.0, 0, 0, 1, 235, 37, 29, 1, 1, 1, 0.775082471968715, 1), (0, 0.0, 0, 0, 1, 118, 40, 34, 0, 1, 8, 0.012755561848500328, 0), (0, 0.0, 0, 0, 2, 231, 39, 35, 0, 2, 2, 0.2285664597647924, 0), (0, 0.0, 0, 0, 4, 179, 53, 25, 0, 1, 1, 0.039859742304467316, 0);'"
      ]
     },
     "execution_count": 13,
     "metadata": {},
     "output_type": "execute_result"
    }
   ],
   "source": [
    "insert_query = 'INSERT INTO predicted_outputs VALUES '\n",
    "\n",
    "for i in range(df_new_obs.shape[0]):\n",
    "    insert_query += '('\n",
    "    \n",
    "    for j in range(df_new_obs.shape[1]):\n",
    "        insert_query += str(df_new_obs[df_new_obs.columns.values[j]][i]) + ', '\n",
    "        \n",
    "    insert_query = insert_query[:-2] + '), '\n",
    "    \n",
    "insert_query = insert_query[:-2] +';'\n",
    "\n",
    "insert_query"
   ]
  },
  {
   "cell_type": "code",
   "execution_count": 14,
   "metadata": {},
   "outputs": [],
   "source": [
    "# cur.execute(insert_query)"
   ]
  },
  {
   "cell_type": "code",
   "execution_count": 15,
   "metadata": {},
   "outputs": [
    {
     "data": {
      "text/plain": [
       "40"
      ]
     },
     "execution_count": 15,
     "metadata": {},
     "output_type": "execute_result"
    }
   ],
   "source": [
    "cur.execute(insert_query)"
   ]
  },
  {
   "cell_type": "code",
   "execution_count": 16,
   "metadata": {},
   "outputs": [],
   "source": [
    "conn.commit()"
   ]
  },
  {
   "cell_type": "code",
   "execution_count": null,
   "metadata": {},
   "outputs": [],
   "source": [
    "conn.close()"
   ]
  }
 ],
 "metadata": {
  "kernelspec": {
   "display_name": "Python 3",
   "language": "python",
   "name": "python3"
  },
  "language_info": {
   "codemirror_mode": {
    "name": "ipython",
    "version": 3
   },
   "file_extension": ".py",
   "mimetype": "text/x-python",
   "name": "python",
   "nbconvert_exporter": "python",
   "pygments_lexer": "ipython3",
   "version": "3.7.6"
  },
  "toc": {
   "base_numbering": 1,
   "nav_menu": {},
   "number_sections": true,
   "sideBar": true,
   "skip_h1_title": false,
   "title_cell": "Table of Contents",
   "title_sidebar": "Contents",
   "toc_cell": false,
   "toc_position": {},
   "toc_section_display": true,
   "toc_window_display": false
  }
 },
 "nbformat": 4,
 "nbformat_minor": 2
}
